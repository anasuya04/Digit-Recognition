{
 "cells": [
  {
   "cell_type": "code",
   "execution_count": 1,
   "metadata": {
    "collapsed": true
   },
   "outputs": [],
   "source": [
    "import numpy as np # linear algebra\n",
    "import pandas as pd # data processing, CSV file I/O (e.g. pd.read_csv)\n",
    "from sklearn.model_selection import train_test_split\n",
    "from tensorflow.python.framework import ops\n",
    "import tensorflow as tf\n",
    "import math"
   ]
  },
  {
   "cell_type": "code",
   "execution_count": 2,
   "metadata": {},
   "outputs": [
    {
     "ename": "FileNotFoundError",
     "evalue": "File b'mnist_train.csv' does not exist",
     "output_type": "error",
     "traceback": [
      "\u001b[0;31m---------------------------------------------------------------------------\u001b[0m",
      "\u001b[0;31mFileNotFoundError\u001b[0m                         Traceback (most recent call last)",
      "\u001b[0;32m<ipython-input-2-0002e69fc240>\u001b[0m in \u001b[0;36m<module>\u001b[0;34m()\u001b[0m\n\u001b[0;32m----> 1\u001b[0;31m \u001b[0mtrainset\u001b[0m \u001b[0;34m=\u001b[0m \u001b[0mpd\u001b[0m\u001b[0;34m.\u001b[0m\u001b[0mread_csv\u001b[0m\u001b[0;34m(\u001b[0m\u001b[0;34m\"mnist_train.csv\"\u001b[0m\u001b[0;34m)\u001b[0m\u001b[0;34m\u001b[0m\u001b[0m\n\u001b[0m",
      "\u001b[0;32m~/anaconda/lib/python3.6/site-packages/pandas/io/parsers.py\u001b[0m in \u001b[0;36mparser_f\u001b[0;34m(filepath_or_buffer, sep, delimiter, header, names, index_col, usecols, squeeze, prefix, mangle_dupe_cols, dtype, engine, converters, true_values, false_values, skipinitialspace, skiprows, nrows, na_values, keep_default_na, na_filter, verbose, skip_blank_lines, parse_dates, infer_datetime_format, keep_date_col, date_parser, dayfirst, iterator, chunksize, compression, thousands, decimal, lineterminator, quotechar, quoting, escapechar, comment, encoding, dialect, tupleize_cols, error_bad_lines, warn_bad_lines, skipfooter, skip_footer, doublequote, delim_whitespace, as_recarray, compact_ints, use_unsigned, low_memory, buffer_lines, memory_map, float_precision)\u001b[0m\n\u001b[1;32m    653\u001b[0m                     skip_blank_lines=skip_blank_lines)\n\u001b[1;32m    654\u001b[0m \u001b[0;34m\u001b[0m\u001b[0m\n\u001b[0;32m--> 655\u001b[0;31m         \u001b[0;32mreturn\u001b[0m \u001b[0m_read\u001b[0m\u001b[0;34m(\u001b[0m\u001b[0mfilepath_or_buffer\u001b[0m\u001b[0;34m,\u001b[0m \u001b[0mkwds\u001b[0m\u001b[0;34m)\u001b[0m\u001b[0;34m\u001b[0m\u001b[0m\n\u001b[0m\u001b[1;32m    656\u001b[0m \u001b[0;34m\u001b[0m\u001b[0m\n\u001b[1;32m    657\u001b[0m     \u001b[0mparser_f\u001b[0m\u001b[0;34m.\u001b[0m\u001b[0m__name__\u001b[0m \u001b[0;34m=\u001b[0m \u001b[0mname\u001b[0m\u001b[0;34m\u001b[0m\u001b[0m\n",
      "\u001b[0;32m~/anaconda/lib/python3.6/site-packages/pandas/io/parsers.py\u001b[0m in \u001b[0;36m_read\u001b[0;34m(filepath_or_buffer, kwds)\u001b[0m\n\u001b[1;32m    403\u001b[0m \u001b[0;34m\u001b[0m\u001b[0m\n\u001b[1;32m    404\u001b[0m     \u001b[0;31m# Create the parser.\u001b[0m\u001b[0;34m\u001b[0m\u001b[0;34m\u001b[0m\u001b[0m\n\u001b[0;32m--> 405\u001b[0;31m     \u001b[0mparser\u001b[0m \u001b[0;34m=\u001b[0m \u001b[0mTextFileReader\u001b[0m\u001b[0;34m(\u001b[0m\u001b[0mfilepath_or_buffer\u001b[0m\u001b[0;34m,\u001b[0m \u001b[0;34m**\u001b[0m\u001b[0mkwds\u001b[0m\u001b[0;34m)\u001b[0m\u001b[0;34m\u001b[0m\u001b[0m\n\u001b[0m\u001b[1;32m    406\u001b[0m \u001b[0;34m\u001b[0m\u001b[0m\n\u001b[1;32m    407\u001b[0m     \u001b[0;32mif\u001b[0m \u001b[0mchunksize\u001b[0m \u001b[0;32mor\u001b[0m \u001b[0miterator\u001b[0m\u001b[0;34m:\u001b[0m\u001b[0;34m\u001b[0m\u001b[0m\n",
      "\u001b[0;32m~/anaconda/lib/python3.6/site-packages/pandas/io/parsers.py\u001b[0m in \u001b[0;36m__init__\u001b[0;34m(self, f, engine, **kwds)\u001b[0m\n\u001b[1;32m    762\u001b[0m             \u001b[0mself\u001b[0m\u001b[0;34m.\u001b[0m\u001b[0moptions\u001b[0m\u001b[0;34m[\u001b[0m\u001b[0;34m'has_index_names'\u001b[0m\u001b[0;34m]\u001b[0m \u001b[0;34m=\u001b[0m \u001b[0mkwds\u001b[0m\u001b[0;34m[\u001b[0m\u001b[0;34m'has_index_names'\u001b[0m\u001b[0;34m]\u001b[0m\u001b[0;34m\u001b[0m\u001b[0m\n\u001b[1;32m    763\u001b[0m \u001b[0;34m\u001b[0m\u001b[0m\n\u001b[0;32m--> 764\u001b[0;31m         \u001b[0mself\u001b[0m\u001b[0;34m.\u001b[0m\u001b[0m_make_engine\u001b[0m\u001b[0;34m(\u001b[0m\u001b[0mself\u001b[0m\u001b[0;34m.\u001b[0m\u001b[0mengine\u001b[0m\u001b[0;34m)\u001b[0m\u001b[0;34m\u001b[0m\u001b[0m\n\u001b[0m\u001b[1;32m    765\u001b[0m \u001b[0;34m\u001b[0m\u001b[0m\n\u001b[1;32m    766\u001b[0m     \u001b[0;32mdef\u001b[0m \u001b[0mclose\u001b[0m\u001b[0;34m(\u001b[0m\u001b[0mself\u001b[0m\u001b[0;34m)\u001b[0m\u001b[0;34m:\u001b[0m\u001b[0;34m\u001b[0m\u001b[0m\n",
      "\u001b[0;32m~/anaconda/lib/python3.6/site-packages/pandas/io/parsers.py\u001b[0m in \u001b[0;36m_make_engine\u001b[0;34m(self, engine)\u001b[0m\n\u001b[1;32m    983\u001b[0m     \u001b[0;32mdef\u001b[0m \u001b[0m_make_engine\u001b[0m\u001b[0;34m(\u001b[0m\u001b[0mself\u001b[0m\u001b[0;34m,\u001b[0m \u001b[0mengine\u001b[0m\u001b[0;34m=\u001b[0m\u001b[0;34m'c'\u001b[0m\u001b[0;34m)\u001b[0m\u001b[0;34m:\u001b[0m\u001b[0;34m\u001b[0m\u001b[0m\n\u001b[1;32m    984\u001b[0m         \u001b[0;32mif\u001b[0m \u001b[0mengine\u001b[0m \u001b[0;34m==\u001b[0m \u001b[0;34m'c'\u001b[0m\u001b[0;34m:\u001b[0m\u001b[0;34m\u001b[0m\u001b[0m\n\u001b[0;32m--> 985\u001b[0;31m             \u001b[0mself\u001b[0m\u001b[0;34m.\u001b[0m\u001b[0m_engine\u001b[0m \u001b[0;34m=\u001b[0m \u001b[0mCParserWrapper\u001b[0m\u001b[0;34m(\u001b[0m\u001b[0mself\u001b[0m\u001b[0;34m.\u001b[0m\u001b[0mf\u001b[0m\u001b[0;34m,\u001b[0m \u001b[0;34m**\u001b[0m\u001b[0mself\u001b[0m\u001b[0;34m.\u001b[0m\u001b[0moptions\u001b[0m\u001b[0;34m)\u001b[0m\u001b[0;34m\u001b[0m\u001b[0m\n\u001b[0m\u001b[1;32m    986\u001b[0m         \u001b[0;32melse\u001b[0m\u001b[0;34m:\u001b[0m\u001b[0;34m\u001b[0m\u001b[0m\n\u001b[1;32m    987\u001b[0m             \u001b[0;32mif\u001b[0m \u001b[0mengine\u001b[0m \u001b[0;34m==\u001b[0m \u001b[0;34m'python'\u001b[0m\u001b[0;34m:\u001b[0m\u001b[0;34m\u001b[0m\u001b[0m\n",
      "\u001b[0;32m~/anaconda/lib/python3.6/site-packages/pandas/io/parsers.py\u001b[0m in \u001b[0;36m__init__\u001b[0;34m(self, src, **kwds)\u001b[0m\n\u001b[1;32m   1603\u001b[0m         \u001b[0mkwds\u001b[0m\u001b[0;34m[\u001b[0m\u001b[0;34m'allow_leading_cols'\u001b[0m\u001b[0;34m]\u001b[0m \u001b[0;34m=\u001b[0m \u001b[0mself\u001b[0m\u001b[0;34m.\u001b[0m\u001b[0mindex_col\u001b[0m \u001b[0;32mis\u001b[0m \u001b[0;32mnot\u001b[0m \u001b[0;32mFalse\u001b[0m\u001b[0;34m\u001b[0m\u001b[0m\n\u001b[1;32m   1604\u001b[0m \u001b[0;34m\u001b[0m\u001b[0m\n\u001b[0;32m-> 1605\u001b[0;31m         \u001b[0mself\u001b[0m\u001b[0;34m.\u001b[0m\u001b[0m_reader\u001b[0m \u001b[0;34m=\u001b[0m \u001b[0mparsers\u001b[0m\u001b[0;34m.\u001b[0m\u001b[0mTextReader\u001b[0m\u001b[0;34m(\u001b[0m\u001b[0msrc\u001b[0m\u001b[0;34m,\u001b[0m \u001b[0;34m**\u001b[0m\u001b[0mkwds\u001b[0m\u001b[0;34m)\u001b[0m\u001b[0;34m\u001b[0m\u001b[0m\n\u001b[0m\u001b[1;32m   1606\u001b[0m \u001b[0;34m\u001b[0m\u001b[0m\n\u001b[1;32m   1607\u001b[0m         \u001b[0;31m# XXX\u001b[0m\u001b[0;34m\u001b[0m\u001b[0;34m\u001b[0m\u001b[0m\n",
      "\u001b[0;32mpandas/_libs/parsers.pyx\u001b[0m in \u001b[0;36mpandas._libs.parsers.TextReader.__cinit__ (pandas/_libs/parsers.c:4209)\u001b[0;34m()\u001b[0m\n",
      "\u001b[0;32mpandas/_libs/parsers.pyx\u001b[0m in \u001b[0;36mpandas._libs.parsers.TextReader._setup_parser_source (pandas/_libs/parsers.c:8873)\u001b[0;34m()\u001b[0m\n",
      "\u001b[0;31mFileNotFoundError\u001b[0m: File b'mnist_train.csv' does not exist"
     ]
    }
   ],
   "source": [
    "trainset = pd.read_csv(\"mnist_train.csv\")"
   ]
  },
  {
   "cell_type": "code",
   "execution_count": null,
   "metadata": {
    "collapsed": true
   },
   "outputs": [],
   "source": [
    "testset = pd.read_csv(\"mnist_test.csv\")"
   ]
  },
  {
   "cell_type": "code",
   "execution_count": 3,
   "metadata": {},
   "outputs": [
    {
     "ename": "NameError",
     "evalue": "name 'trainset' is not defined",
     "output_type": "error",
     "traceback": [
      "\u001b[0;31m---------------------------------------------------------------------------\u001b[0m",
      "\u001b[0;31mNameError\u001b[0m                                 Traceback (most recent call last)",
      "\u001b[0;32m<ipython-input-3-cb3f6e56a561>\u001b[0m in \u001b[0;36m<module>\u001b[0;34m()\u001b[0m\n\u001b[0;32m----> 1\u001b[0;31m \u001b[0mprint\u001b[0m\u001b[0;34m(\u001b[0m\u001b[0mtrainset\u001b[0m\u001b[0;34m.\u001b[0m\u001b[0mshape\u001b[0m\u001b[0;34m)\u001b[0m\u001b[0;34m\u001b[0m\u001b[0m\n\u001b[0m\u001b[1;32m      2\u001b[0m \u001b[0mprint\u001b[0m\u001b[0;34m(\u001b[0m\u001b[0mtestset\u001b[0m\u001b[0;34m.\u001b[0m\u001b[0mshape\u001b[0m\u001b[0;34m)\u001b[0m\u001b[0;34m\u001b[0m\u001b[0m\n\u001b[1;32m      3\u001b[0m \u001b[0;34m\u001b[0m\u001b[0m\n\u001b[1;32m      4\u001b[0m \u001b[0;31m# split dataset into tainset and cross-validation set\u001b[0m\u001b[0;34m\u001b[0m\u001b[0;34m\u001b[0m\u001b[0m\n\u001b[1;32m      5\u001b[0m \u001b[0;31m#trainset, valset= train_test_split(trainset, test_size = 0.1)\u001b[0m\u001b[0;34m\u001b[0m\u001b[0;34m\u001b[0m\u001b[0m\n",
      "\u001b[0;31mNameError\u001b[0m: name 'trainset' is not defined"
     ]
    }
   ],
   "source": [
    "print(trainset.shape)\n",
    "print(testset.shape)\n",
    "\n",
    "# split dataset into tainset and cross-validation set\n",
    "#trainset, valset= train_test_split(trainset, test_size = 0.1)\n",
    "\n",
    "# get pix from trainset\n",
    "x_train = trainset.iloc[:, 1 : 785]\n",
    "x_train = x_train.values\n",
    "# get label from trainset\n",
    "y_train = trainset.loc[:,\"label\"]\n",
    "y_train = pd.get_dummies(y_train).values\n",
    "\n",
    "# get pix from valset\n",
    "x_cv = testset.iloc[:, 1 : 785]\n",
    "x_cv = x_cv.values\n",
    "# get label from valset\n",
    "y_cv = testset.loc[:,\"label\"]\n",
    "y_cv = pd.get_dummies(y_cv).values\n",
    "\n",
    "x_test = testset.values\n",
    "train_arr = []\n",
    "test_arr = []\n",
    "cost_arr = []\n",
    "#epoch =30\n",
    "\n",
    "print(\"Number of training examples: \" + str(x_train.shape[1]))\n",
    "print(\"Number of cross-validation examples = \" + str(x_cv.shape[1]))\n",
    "print (\"x_train shape: \" + str(x_train.shape))\n",
    "print (\"y_train shape: \" + str(y_train.shape))\n",
    "print (\"y_train sample0: \" + str(y_train[0]))\n",
    "print (\"x_test shape: \" + str(x_test.shape))"
   ]
  },
  {
   "cell_type": "code",
   "execution_count": 120,
   "metadata": {
    "collapsed": true
   },
   "outputs": [],
   "source": [
    "def network(x_shape, y_shape, mode=tf.estimator.ModeKeys.TRAIN):\n",
    "    ops.reset_default_graph()      # reset computation graph\n",
    "    \"\"\"\n",
    "    x_shape: input dim\n",
    "    y_shape: output dim\n",
    "    \"\"\"\n",
    "    x = tf.placeholder(tf.float32, shape=(None, x_shape), name=\"x\")\n",
    "    y = tf.placeholder(tf.float32, shape=(None, y_shape), name=\"y\")\n",
    "    \n",
    "    # flatten the input\n",
    "    print(x)\n",
    "    m = tf.layers.dense(x, units=256, activation='relu',\n",
    "                        kernel_initializer=tf.contrib.layers.xavier_initializer(),\n",
    "                        bias_initializer=tf.zeros_initializer())\n",
    "    print(m)\n",
    "    m = tf.layers.dropout(inputs=m, rate=0.1)\n",
    "    print(m)\n",
    "    m = tf.layers.dense(m, units=128, activation='relu',\n",
    "                        kernel_initializer=tf.contrib.layers.xavier_initializer(),\n",
    "                        bias_initializer=tf.zeros_initializer())\n",
    "    print(m)\n",
    "    m = tf.layers.dropout(inputs=m, rate=0.1)\n",
    "#     print(m)\n",
    "    m = tf.layers.dense(m, units=64, activation='relu', \n",
    "                        kernel_initializer=tf.contrib.layers.xavier_initializer(),\n",
    "                        bias_initializer=tf.zeros_initializer())\n",
    "    print(m)\n",
    "    m = tf.layers.dropout(inputs=m, rate=0.1)\n",
    "#     print(m)\n",
    "    m = tf.layers.dense(m, units=32, activation='relu', \n",
    "                        kernel_initializer=tf.contrib.layers.xavier_initializer(),\n",
    "                        bias_initializer=tf.zeros_initializer())\n",
    "    print(m)\n",
    "    m = tf.layers.dropout(inputs=m, rate=0.1)\n",
    "#     print(m)\n",
    "    m = tf.layers.dense(m, units=16, activation='relu', \n",
    "                        kernel_initializer=tf.contrib.layers.xavier_initializer(),\n",
    "                        bias_initializer=tf.zeros_initializer())\n",
    "    print(m)\n",
    "    m = tf.layers.dropout(inputs=m, rate=0.1)\n",
    "#     print(m)\n",
    "    prediction = tf.layers.dense(m, units=y_shape, name=\"p\", \n",
    "                        kernel_initializer=tf.contrib.layers.xavier_initializer(),\n",
    "                        bias_initializer=tf.zeros_initializer())\n",
    "    print(prediction)\n",
    "    \n",
    "    return x, y, prediction\n",
    "\n",
    "def optimization(logits, labels):\n",
    "    \"\"\"\n",
    "    logits: pred value\n",
    "    labels: real value\n",
    "    \"\"\"\n",
    "    loss = tf.reduce_mean(tf.nn.sigmoid_cross_entropy_with_logits(logits=logits, labels=labels))\n",
    "    optim = tf.train.AdamOptimizer(learning_rate=1e-3).minimize(loss)\n",
    "#     optim = tf.contrib.opt.NadamOptimizer(learning_rate=1e-4).minimize(loss)\n",
    "    return loss, optim\n",
    "\n",
    "def random_mini_batches(x, y, mini_batch_size = 64):\n",
    "    m = x.shape[0]\n",
    "    mini_batches = []\n",
    "    \n",
    "    #shuffle x and y\n",
    "    permutation = list(np.random.permutation(m))\n",
    "    shuffled_x = x[permutation]\n",
    "    shuffled_y = y[permutation]\n",
    "    \n",
    "    #partition\n",
    "    num_complete_minibatches = math.ceil(m / mini_batch_size)\n",
    "    for k in range(0, num_complete_minibatches):\n",
    "        mini_batch_x = shuffled_x[k*mini_batch_size : k*mini_batch_size + mini_batch_size]\n",
    "        mini_batch_y = shuffled_y[k*mini_batch_size : k*mini_batch_size + mini_batch_size]\n",
    "        mini_batch = (mini_batch_x, mini_batch_y)\n",
    "        mini_batches.append(mini_batch)\n",
    "    return mini_batches\n",
    "\n",
    "def train(x_train, y_train, x_cv, y_cv, x_test, num_epochs, mini_batch_size = 64):\n",
    "    x_shape = x_train.shape\n",
    "    y_shape = y_train.shape\n",
    "    print(\"input: \", x_shape[1], \" output: \", y_shape[1])\n",
    "    x, y, pred = network(x_shape[1], y_shape[1])\n",
    "    # loss, optim\n",
    "    loss, optim = optimization(pred, y)\n",
    "    # acc \n",
    "    correct_prediction = tf.equal(tf.argmax(pred, 1), tf.argmax(y, 1))\n",
    "    accuracy = tf.reduce_mean(tf.cast(correct_prediction, \"float\"))\n",
    "    \n",
    "    # init tensorflow\n",
    "    init = tf.global_variables_initializer()\n",
    "    with tf.Session() as sess:\n",
    "        sess.run(init)  #initializes the variables created\n",
    "        for epoch in range(num_epochs):\n",
    "            epoch_cost = 0\n",
    "            epoch_acc = 0\n",
    "            num_minibatches = math.ceil(x_shape[0]/mini_batch_size)\n",
    "            minibatches = random_mini_batches(x_train, y_train)\n",
    "            for minibatch in minibatches:\n",
    "                (minibatch_x, minibatch_y) = minibatch\n",
    "                _, minibatch_cost, p, minibatch_acc  = sess.run([optim, loss, pred, accuracy], feed_dict = {x: minibatch_x, y: minibatch_y})\n",
    "                # print(\"pred shape: \", p)\n",
    "                epoch_cost += minibatch_cost / num_minibatches\n",
    "                epoch_acc += minibatch_acc / num_minibatches\n",
    "                \n",
    "            print(\"cost after epoch %i :  %.3f\" % (epoch + 1, epoch_cost), end=\"\")\n",
    "            print(\"  train accuracy   :  %.3f\" % epoch_acc)\n",
    "            print(\"  cv accuracy   :  %.3f\" % (accuracy.eval({x: x_cv, y: y_cv})))\n",
    "            train_arr.append(epoch_acc)\n",
    "            test_arr.append(accuracy.eval({x: x_cv, y: y_cv}))\n",
    "            cost_arr.append(epoch_cost)\n",
    "            \n",
    "        print(\"network trained\")\n",
    "        predicts = tf.argmax(pred, 1).eval({x:x_test})\n",
    "        probs = tf.nn.softmax(pred, 1).eval({x: x_test})\n",
    "        print(\"test shape: \", x_test.shape)\n",
    "        print(\"predicts shape: \", predicts.shape)\n",
    "        print(\"predicts val: \", predicts)\n",
    "        return predicts, probs"
   ]
  },
  {
   "cell_type": "code",
   "execution_count": 121,
   "metadata": {},
   "outputs": [
    {
     "name": "stdout",
     "output_type": "stream",
     "text": [
      "input:  785  output:  10\n",
      "Tensor(\"x:0\", shape=(?, 785), dtype=float32)\n",
      "Tensor(\"dense/Relu:0\", shape=(?, 256), dtype=float32)\n",
      "Tensor(\"dropout/Identity:0\", shape=(?, 256), dtype=float32)\n",
      "Tensor(\"dense_1/Relu:0\", shape=(?, 128), dtype=float32)\n",
      "Tensor(\"dense_2/Relu:0\", shape=(?, 64), dtype=float32)\n",
      "Tensor(\"dense_3/Relu:0\", shape=(?, 32), dtype=float32)\n",
      "Tensor(\"dense_4/Relu:0\", shape=(?, 16), dtype=float32)\n",
      "Tensor(\"p/BiasAdd:0\", shape=(?, 10), dtype=float32)\n",
      "cost after epoch 1 :  0.154  train accuracy   :  0.836\n",
      "  cv accuracy   :  0.940\n",
      "cost after epoch 2 :  0.034  train accuracy   :  0.951\n",
      "  cv accuracy   :  0.956\n",
      "cost after epoch 3 :  0.023  train accuracy   :  0.966\n",
      "  cv accuracy   :  0.961\n",
      "cost after epoch 4 :  0.019  train accuracy   :  0.973\n",
      "  cv accuracy   :  0.968\n",
      "cost after epoch 5 :  0.017  train accuracy   :  0.975\n",
      "  cv accuracy   :  0.964\n",
      "cost after epoch 6 :  0.015  train accuracy   :  0.977\n",
      "  cv accuracy   :  0.967\n",
      "cost after epoch 7 :  0.013  train accuracy   :  0.981\n",
      "  cv accuracy   :  0.971\n",
      "cost after epoch 8 :  0.011  train accuracy   :  0.982\n",
      "  cv accuracy   :  0.973\n",
      "cost after epoch 9 :  0.010  train accuracy   :  0.984\n",
      "  cv accuracy   :  0.973\n",
      "cost after epoch 10 :  0.009  train accuracy   :  0.985\n",
      "  cv accuracy   :  0.971\n",
      "cost after epoch 11 :  0.008  train accuracy   :  0.988\n",
      "  cv accuracy   :  0.976\n",
      "cost after epoch 12 :  0.008  train accuracy   :  0.989\n",
      "  cv accuracy   :  0.978\n",
      "cost after epoch 13 :  0.007  train accuracy   :  0.989\n",
      "  cv accuracy   :  0.976\n",
      "cost after epoch 14 :  0.006  train accuracy   :  0.991\n",
      "  cv accuracy   :  0.978\n",
      "cost after epoch 15 :  0.006  train accuracy   :  0.990\n",
      "  cv accuracy   :  0.978\n",
      "network trained\n",
      "test shape:  (10000, 785)\n",
      "predicts shape:  (10000,)\n",
      "predicts val:  [7 2 1 ... 4 5 6]\n"
     ]
    }
   ],
   "source": [
    "\n",
    "preds , probs = train(x_train, y_train, x_cv, y_cv, x_test, num_epochs=15)"
   ]
  },
  {
   "cell_type": "code",
   "execution_count": 122,
   "metadata": {},
   "outputs": [
    {
     "data": {
      "image/png": "[encoded data removed]",
      "text/plain": [
       "<Figure size 432x288 with 1 Axes>"
      ]
     },
     "metadata": {
      "needs_background": "light"
     },
     "output_type": "display_data"
    }
   ],
   "source": [
    "import matplotlib.pyplot as plt\n",
    "num_epochs =15\n",
    "plt.plot(range(1,num_epochs+1),train_arr,label='train')\n",
    "plt.plot(range(1,num_epochs+1),test_arr,label='test')\n",
    "plt.xlabel('Epoches')\n",
    "plt.ylabel('Accuracy')\n",
    "plt.legend()\n",
    "plt.show()"
   ]
  },
  {
   "cell_type": "code",
   "execution_count": 123,
   "metadata": {},
   "outputs": [
    {
     "data": {
      "image/png": "[encoded data removed]",
      "text/plain": [
       "<Figure size 432x288 with 1 Axes>"
      ]
     },
     "metadata": {
      "needs_background": "light"
     },
     "output_type": "display_data"
    }
   ],
   "source": [
    "plt.plot(range(1,num_epochs+1),cost_arr,label='train')\n",
    "#plt.plot(range(1,num_epochs+1),test_arr,label='test')\n",
    "plt.xlabel('Epoches')\n",
    "plt.ylabel('Loss')\n",
    "plt.legend()\n",
    "plt.show()"
   ]
  },
  {
   "cell_type": "code",
   "execution_count": null,
   "metadata": {
    "collapsed": true
   },
   "outputs": [],
   "source": []
  },
  {
   "cell_type": "code",
   "execution_count": null,
   "metadata": {
    "collapsed": true
   },
   "outputs": [],
   "source": []
  }
 ],
 "metadata": {
  "kernelspec": {
   "display_name": "Python 3",
   "language": "python",
   "name": "python3"
  },
  "language_info": {
   "codemirror_mode": {
    "name": "ipython",
    "version": 3
   },
   "file_extension": ".py",
   "mimetype": "text/x-python",
   "name": "python",
   "nbconvert_exporter": "python",
   "pygments_lexer": "ipython3",
   "version": "3.7.4"
  }
 },
 "nbformat": 4,
 "nbformat_minor": 2
}
