{
 "cells": [
  {
   "cell_type": "code",
   "execution_count": 0,
   "metadata": {
    "colab": {},
    "colab_type": "code",
    "id": "m0BxnI0ehi1I"
   },
   "outputs": [],
   "source": [
    "import tensorflow as tf\n",
    "import numpy as np\n",
    "import matplotlib.pyplot as plt\n",
    "%matplotlib inline\n",
    "import time"
   ]
  },
  {
   "cell_type": "code",
   "execution_count": 2,
   "metadata": {
    "colab": {
     "base_uri": "https://localhost:8080/",
     "height": 436
    },
    "colab_type": "code",
    "id": "mteaWYLXhi1R",
    "outputId": "750277b6-0d9a-4b89-a42f-8bd2913cef72"
   },
   "outputs": [
    {
     "name": "stderr",
     "output_type": "stream",
     "text": [
      "WARNING: Logging before flag parsing goes to stderr.\n",
      "W0821 10:53:23.386600 140312452142976 deprecation.py:323] From <ipython-input-2-d7c6a0484349>:2: read_data_sets (from tensorflow.contrib.learn.python.learn.datasets.mnist) is deprecated and will be removed in a future version.\n",
      "Instructions for updating:\n",
      "Please use alternatives such as official/mnist/dataset.py from tensorflow/models.\n",
      "W0821 10:53:23.388420 140312452142976 deprecation.py:323] From /usr/local/lib/python3.6/dist-packages/tensorflow/contrib/learn/python/learn/datasets/mnist.py:260: maybe_download (from tensorflow.contrib.learn.python.learn.datasets.base) is deprecated and will be removed in a future version.\n",
      "Instructions for updating:\n",
      "Please write your own downloading logic.\n",
      "W0821 10:53:23.389436 140312452142976 deprecation.py:323] From /usr/local/lib/python3.6/dist-packages/tensorflow/contrib/learn/python/learn/datasets/mnist.py:262: extract_images (from tensorflow.contrib.learn.python.learn.datasets.mnist) is deprecated and will be removed in a future version.\n",
      "Instructions for updating:\n",
      "Please use tf.data to implement this functionality.\n"
     ]
    },
    {
     "name": "stdout",
     "output_type": "stream",
     "text": [
      "Extracting /home/chc/anaconda/train-images-idx3-ubyte.gz\n"
     ]
    },
    {
     "name": "stderr",
     "output_type": "stream",
     "text": [
      "W0821 10:53:23.688095 140312452142976 deprecation.py:323] From /usr/local/lib/python3.6/dist-packages/tensorflow/contrib/learn/python/learn/datasets/mnist.py:267: extract_labels (from tensorflow.contrib.learn.python.learn.datasets.mnist) is deprecated and will be removed in a future version.\n",
      "Instructions for updating:\n",
      "Please use tf.data to implement this functionality.\n",
      "W0821 10:53:23.691117 140312452142976 deprecation.py:323] From /usr/local/lib/python3.6/dist-packages/tensorflow/contrib/learn/python/learn/datasets/mnist.py:110: dense_to_one_hot (from tensorflow.contrib.learn.python.learn.datasets.mnist) is deprecated and will be removed in a future version.\n",
      "Instructions for updating:\n",
      "Please use tf.one_hot on tensors.\n",
      "W0821 10:53:23.751630 140312452142976 deprecation.py:323] From /usr/local/lib/python3.6/dist-packages/tensorflow/contrib/learn/python/learn/datasets/mnist.py:290: DataSet.__init__ (from tensorflow.contrib.learn.python.learn.datasets.mnist) is deprecated and will be removed in a future version.\n",
      "Instructions for updating:\n",
      "Please use alternatives such as official/mnist/dataset.py from tensorflow/models.\n"
     ]
    },
    {
     "name": "stdout",
     "output_type": "stream",
     "text": [
      "Extracting /home/chc/anaconda/train-labels-idx1-ubyte.gz\n",
      "Extracting /home/chc/anaconda/t10k-images-idx3-ubyte.gz\n",
      "Extracting /home/chc/anaconda/t10k-labels-idx1-ubyte.gz\n"
     ]
    }
   ],
   "source": [
    "from tensorflow.examples.tutorials.mnist import input_data\n",
    "data = input_data.read_data_sets('/home/chc/anaconda/', one_hot=True)\n"
   ]
  },
  {
   "cell_type": "code",
   "execution_count": 3,
   "metadata": {
    "colab": {
     "base_uri": "https://localhost:8080/",
     "height": 86
    },
    "colab_type": "code",
    "id": "pcZ4lEGThi1X",
    "outputId": "c4908dee-ec08-4fbe-8cdc-1b77843c6c69"
   },
   "outputs": [
    {
     "name": "stdout",
     "output_type": "stream",
     "text": [
      "Size of:\n",
      "- Training-set:\t\t55000\n",
      "- Test-set:\t\t10000\n",
      "- Validation-set:\t5000\n"
     ]
    }
   ],
   "source": [
    "\n",
    "\n",
    "print(\"Size of:\")\n",
    "print(\"- Training-set:\\t\\t{}\".format(len(data.train.labels)))\n",
    "print(\"- Test-set:\\t\\t{}\".format(len(data.test.labels)))\n",
    "print(\"- Validation-set:\\t{}\".format(len(data.validation.labels)))"
   ]
  },
  {
   "cell_type": "code",
   "execution_count": 4,
   "metadata": {
    "colab": {
     "base_uri": "https://localhost:8080/",
     "height": 89
    },
    "colab_type": "code",
    "id": "9zG5Chkthi1a",
    "outputId": "15b9de8b-4ce8-43e0-f210-bd4a04037717"
   },
   "outputs": [
    {
     "name": "stderr",
     "output_type": "stream",
     "text": [
      "W0821 10:53:29.362433 140312452142976 deprecation.py:506] From <ipython-input-4-cc3006e79a1a>:7: calling argmax (from tensorflow.python.ops.math_ops) with dimension is deprecated and will be removed in a future version.\n",
      "Instructions for updating:\n",
      "Use the `axis` argument instead\n"
     ]
    }
   ],
   "source": [
    "# Placeholder variable for the input images\n",
    "x = tf.placeholder(tf.float32, shape=[None, 28*28], name='X')\n",
    "# Reshape it into [num_images, img_height, img_width, num_channels]\n",
    "x_image = tf.reshape(x, [-1, 28, 28, 1])\n",
    "\n",
    "# Placeholder variable for the true labels associated with the images\n",
    "y_true = tf.placeholder(tf.float32, shape=[None, 10], name='y_true')\n",
    "y_true_cls = tf.argmax(y_true, dimension=1)\n"
   ]
  },
  {
   "cell_type": "markdown",
   "metadata": {
    "colab_type": "text",
    "id": "Hlmtw2O1hi1g"
   },
   "source": [
    "# Function for creating a new Convolution Layer"
   ]
  },
  {
   "cell_type": "code",
   "execution_count": 0,
   "metadata": {
    "colab": {},
    "colab_type": "code",
    "id": "DjC6wVbvhi1h"
   },
   "outputs": [],
   "source": [
    "def new_conv_layer(input, num_input_channels, filter_size, num_filters, name):\n",
    "    \n",
    "    with tf.variable_scope(name) as scope:\n",
    "        # Shape of the filter-weights for the convolution\n",
    "        shape = [filter_size, filter_size, num_input_channels, num_filters]\n",
    "\n",
    "        # Create new weights (filters) with the given shape\n",
    "        weights = tf.Variable(tf.truncated_normal(shape, stddev=0.05))\n",
    "\n",
    "        # Create new biases, one for each filter\n",
    "        biases = tf.Variable(tf.constant(0.05, shape=[num_filters]))\n",
    "\n",
    "        # TensorFlow operation for convolution\n",
    "        layer = tf.nn.conv2d(input=input, filter=weights, strides=[1, 1, 1, 1], padding='SAME')\n",
    "\n",
    "        # Add the biases to the results of the convolution.\n",
    "        layer += biases\n",
    "        \n",
    "        return layer, weights"
   ]
  },
  {
   "cell_type": "code",
   "execution_count": 0,
   "metadata": {
    "colab": {},
    "colab_type": "code",
    "id": "7GLehQqIhi1l"
   },
   "outputs": [],
   "source": [
    "def new_pool_layer(input, name):\n",
    "    \n",
    "    with tf.variable_scope(name) as scope:\n",
    "        # TensorFlow operation for convolution\n",
    "        layer = tf.nn.max_pool(value=input, ksize=[1, 2, 2, 1], strides=[1, 2, 2, 1], padding='SAME')\n",
    "        \n",
    "        return layer"
   ]
  },
  {
   "cell_type": "code",
   "execution_count": 0,
   "metadata": {
    "colab": {},
    "colab_type": "code",
    "id": "mAE4aewYhi1o"
   },
   "outputs": [],
   "source": [
    "def new_relu_layer(input, name):\n",
    "    \n",
    "    with tf.variable_scope(name) as scope:\n",
    "        # TensorFlow operation for convolution\n",
    "        layer = tf.nn.relu(input)\n",
    "        \n",
    "        return layer"
   ]
  },
  {
   "cell_type": "code",
   "execution_count": 0,
   "metadata": {
    "colab": {},
    "colab_type": "code",
    "id": "8vD13afMhi1s"
   },
   "outputs": [],
   "source": [
    "def new_fc_layer(input, num_inputs, num_outputs, name):\n",
    "    \n",
    "    with tf.variable_scope(name) as scope:\n",
    "\n",
    "        # Create new weights and biases.\n",
    "        weights = tf.Variable(tf.truncated_normal([num_inputs, num_outputs], stddev=0.05))\n",
    "        biases = tf.Variable(tf.constant(0.05, shape=[num_outputs]))\n",
    "        \n",
    "        # Multiply the input and weights, and then add the bias-values.\n",
    "        layer = tf.matmul(input, weights) + biases\n",
    "        \n",
    "        return layer\n",
    "\n",
    "\n"
   ]
  },
  {
   "cell_type": "markdown",
   "metadata": {
    "colab_type": "text",
    "id": "vwDpkTQChi1w"
   },
   "source": [
    "# Create Convolutional Neural Network"
   ]
  },
  {
   "cell_type": "code",
   "execution_count": 0,
   "metadata": {
    "colab": {},
    "colab_type": "code",
    "id": "dQxaMwGihi1x"
   },
   "outputs": [],
   "source": [
    "# Convolutional Layer 1\n",
    "layer_conv1, weights_conv1 = new_conv_layer(input=x_image, num_input_channels=1, filter_size=5, num_filters=6, name =\"conv1\")\n",
    "\n",
    "# Pooling Layer 1\n",
    "layer_pool1 = new_pool_layer(layer_conv1, name=\"pool1\")\n",
    "\n",
    "# RelU layer 1\n",
    "layer_relu1 = new_relu_layer(layer_pool1, name=\"relu1\")\n",
    "\n",
    "# Convolutional Layer 2\n",
    "layer_conv2, weights_conv2 = new_conv_layer(input=layer_relu1, num_input_channels=6, filter_size=5, num_filters=16, name= \"conv2\")\n",
    "\n",
    "# Pooling Layer 2\n",
    "layer_pool2 = new_pool_layer(layer_conv2, name=\"pool2\")\n",
    "\n",
    "# RelU layer 2\n",
    "layer_relu2 = new_relu_layer(layer_pool2, name=\"relu2\")\n",
    "\n",
    "# Flatten Layer\n",
    "num_features = layer_relu2.get_shape()[1:4].num_elements()\n",
    "layer_flat = tf.reshape(layer_relu2, [-1, num_features])\n",
    "\n",
    "# Fully-Connected Layer 1\n",
    "layer_fc1 = new_fc_layer(layer_flat, num_inputs=num_features, num_outputs=128, name=\"fc1\")\n",
    "\n",
    "# RelU layer 3\n",
    "layer_relu3 = new_relu_layer(layer_fc1, name=\"relu3\")\n",
    "\n",
    "# Fully-Connected Layer 2\n",
    "layer_fc2 = new_fc_layer(input=layer_relu3, num_inputs=128, num_outputs=10, name=\"fc2\")"
   ]
  },
  {
   "cell_type": "code",
   "execution_count": 0,
   "metadata": {
    "colab": {},
    "colab_type": "code",
    "id": "InRMiUEJhi12"
   },
   "outputs": [],
   "source": [
    "# Use Softmax function to normalize the output\n",
    "with tf.variable_scope(\"Softmax\"):\n",
    "    y_pred = tf.nn.softmax(layer_fc2)\n",
    "    y_pred_cls = tf.argmax(y_pred, dimension=1)"
   ]
  },
  {
   "cell_type": "markdown",
   "metadata": {
    "colab_type": "text",
    "id": "6fYo8i3Phi16"
   },
   "source": [
    "# Cost Function"
   ]
  },
  {
   "cell_type": "code",
   "execution_count": 11,
   "metadata": {
    "colab": {
     "base_uri": "https://localhost:8080/",
     "height": 176
    },
    "colab_type": "code",
    "id": "VocEhfWQhi17",
    "outputId": "889e6841-40d3-4513-d121-fc435aaf930a"
   },
   "outputs": [
    {
     "name": "stderr",
     "output_type": "stream",
     "text": [
      "W0821 10:53:37.366815 140312452142976 deprecation.py:323] From <ipython-input-11-0709eaec5fa0>:2: softmax_cross_entropy_with_logits (from tensorflow.python.ops.nn_ops) is deprecated and will be removed in a future version.\n",
      "Instructions for updating:\n",
      "\n",
      "Future major versions of TensorFlow will allow gradients to flow\n",
      "into the labels input on backprop by default.\n",
      "\n",
      "See `tf.nn.softmax_cross_entropy_with_logits_v2`.\n",
      "\n"
     ]
    }
   ],
   "source": [
    "# Use Cross entropy cost function\n",
    "with tf.name_scope(\"cross_ent\"):\n",
    "    cross_entropy = tf.nn.softmax_cross_entropy_with_logits(logits=layer_fc2, labels=y_true)\n",
    "    cost = tf.reduce_mean(cross_entropy)\n",
    "    "
   ]
  },
  {
   "cell_type": "markdown",
   "metadata": {
    "colab_type": "text",
    "id": "-3ix5xzshi1_"
   },
   "source": [
    "# Optimizer"
   ]
  },
  {
   "cell_type": "code",
   "execution_count": 0,
   "metadata": {
    "colab": {},
    "colab_type": "code",
    "id": "KGkBZLhQhi2A"
   },
   "outputs": [],
   "source": [
    "# Use Adam Optimizer\n",
    "with tf.name_scope(\"optimizer\"):\n",
    "    optimizer = tf.train.AdamOptimizer(learning_rate=1e-4).minimize(cost)"
   ]
  },
  {
   "cell_type": "markdown",
   "metadata": {
    "colab_type": "text",
    "id": "f4tjq4DVhi2C"
   },
   "source": [
    "# Accuracy"
   ]
  },
  {
   "cell_type": "code",
   "execution_count": 0,
   "metadata": {
    "colab": {},
    "colab_type": "code",
    "id": "jThxAk0lhi2E"
   },
   "outputs": [],
   "source": [
    "# Accuracy\n",
    "with tf.name_scope(\"accuracy\"):\n",
    "    correct_prediction = tf.equal(y_pred_cls, y_true_cls)\n",
    "    accuracy = tf.reduce_mean(tf.cast(correct_prediction, tf.float32))"
   ]
  },
  {
   "cell_type": "code",
   "execution_count": 0,
   "metadata": {
    "colab": {},
    "colab_type": "code",
    "id": "3HrWJb63hi2G"
   },
   "outputs": [],
   "source": [
    "# Initialize the FileWriter\n",
    "writer = tf.summary.FileWriter(\"Training_FileWriter/\")\n",
    "writer1 = tf.summary.FileWriter(\"Validation_FileWriter/\")"
   ]
  },
  {
   "cell_type": "code",
   "execution_count": 0,
   "metadata": {
    "colab": {},
    "colab_type": "code",
    "id": "mA5mkSnLhi2K"
   },
   "outputs": [],
   "source": [
    "# Add the cost and accuracy to summary\n",
    "tf.summary.scalar('loss', cost)\n",
    "tf.summary.scalar('accuracy', accuracy)\n",
    "\n",
    "# Merge all summaries together\n",
    "merged_summary = tf.summary.merge_all()"
   ]
  },
  {
   "cell_type": "code",
   "execution_count": 0,
   "metadata": {
    "colab": {},
    "colab_type": "code",
    "id": "dZGSFhW9hi2O"
   },
   "outputs": [],
   "source": [
    "num_epochs = 50\n",
    "batch_size = 100\n",
    "t_accuracy = []\n",
    "cost_array = []"
   ]
  },
  {
   "cell_type": "markdown",
   "metadata": {
    "colab_type": "text",
    "id": "2cu-1Emehi2R"
   },
   "source": [
    "# TensorFlow Session"
   ]
  },
  {
   "cell_type": "code",
   "execution_count": 17,
   "metadata": {
    "colab": {
     "base_uri": "https://localhost:8080/",
     "height": 1000
    },
    "colab_type": "code",
    "id": "D9jWVpV9hi2S",
    "outputId": "5dde940f-717b-4120-fa67-a6da4925197a"
   },
   "outputs": [
    {
     "name": "stdout",
     "output_type": "stream",
     "text": [
      "Epoch 1 completed : Time usage 60 seconds\n",
      "\tAccuracy:\n",
      "\t- Training Accuracy:\t0.703127271045338\n",
      "\t- Validation Accuracy:\t0.875\n",
      "Epoch 2 completed : Time usage 59 seconds\n",
      "\tAccuracy:\n",
      "\t- Training Accuracy:\t0.8939272740754214\n",
      "\t- Validation Accuracy:\t0.9093999862670898\n",
      "Epoch 3 completed : Time usage 60 seconds\n",
      "\tAccuracy:\n",
      "\t- Training Accuracy:\t0.9178181827068329\n",
      "\t- Validation Accuracy:\t0.9327999949455261\n",
      "Epoch 4 completed : Time usage 60 seconds\n",
      "\tAccuracy:\n",
      "\t- Training Accuracy:\t0.9310545475916429\n",
      "\t- Validation Accuracy:\t0.9423999786376953\n",
      "Epoch 5 completed : Time usage 60 seconds\n",
      "\tAccuracy:\n",
      "\t- Training Accuracy:\t0.9421090927991\n",
      "\t- Validation Accuracy:\t0.9516000151634216\n",
      "Epoch 6 completed : Time usage 60 seconds\n",
      "\tAccuracy:\n",
      "\t- Training Accuracy:\t0.950600001486865\n",
      "\t- Validation Accuracy:\t0.9593999981880188\n",
      "Epoch 7 completed : Time usage 60 seconds\n",
      "\tAccuracy:\n",
      "\t- Training Accuracy:\t0.9567454581910914\n",
      "\t- Validation Accuracy:\t0.9660000205039978\n",
      "Epoch 8 completed : Time usage 60 seconds\n",
      "\tAccuracy:\n",
      "\t- Training Accuracy:\t0.9623272783106024\n",
      "\t- Validation Accuracy:\t0.9706000089645386\n",
      "Epoch 9 completed : Time usage 60 seconds\n",
      "\tAccuracy:\n",
      "\t- Training Accuracy:\t0.9664181874015114\n",
      "\t- Validation Accuracy:\t0.9696000218391418\n",
      "Epoch 10 completed : Time usage 60 seconds\n",
      "\tAccuracy:\n",
      "\t- Training Accuracy:\t0.9693818257071755\n",
      "\t- Validation Accuracy:\t0.9728000164031982\n",
      "Epoch 11 completed : Time usage 60 seconds\n",
      "\tAccuracy:\n",
      "\t- Training Accuracy:\t0.9723818279396403\n",
      "\t- Validation Accuracy:\t0.9742000102996826\n",
      "Epoch 12 completed : Time usage 60 seconds\n",
      "\tAccuracy:\n",
      "\t- Training Accuracy:\t0.9746363725445487\n",
      "\t- Validation Accuracy:\t0.9768000245094299\n",
      "Epoch 13 completed : Time usage 60 seconds\n",
      "\tAccuracy:\n",
      "\t- Training Accuracy:\t0.9763091020150618\n",
      "\t- Validation Accuracy:\t0.9782000184059143\n",
      "Epoch 14 completed : Time usage 60 seconds\n",
      "\tAccuracy:\n",
      "\t- Training Accuracy:\t0.9782909206910567\n",
      "\t- Validation Accuracy:\t0.9787999987602234\n",
      "Epoch 15 completed : Time usage 61 seconds\n",
      "\tAccuracy:\n",
      "\t- Training Accuracy:\t0.9798727386648005\n",
      "\t- Validation Accuracy:\t0.9796000123023987\n",
      "Epoch 16 completed : Time usage 60 seconds\n",
      "\tAccuracy:\n",
      "\t- Training Accuracy:\t0.9807454659722068\n",
      "\t- Validation Accuracy:\t0.9807999730110168\n",
      "Epoch 17 completed : Time usage 61 seconds\n",
      "\tAccuracy:\n",
      "\t- Training Accuracy:\t0.9818727387081493\n",
      "\t- Validation Accuracy:\t0.9828000068664551\n",
      "Epoch 18 completed : Time usage 60 seconds\n",
      "\tAccuracy:\n",
      "\t- Training Accuracy:\t0.9823091022534803\n",
      "\t- Validation Accuracy:\t0.9836000204086304\n",
      "Epoch 19 completed : Time usage 60 seconds\n",
      "\tAccuracy:\n",
      "\t- Training Accuracy:\t0.9833454647931186\n",
      "\t- Validation Accuracy:\t0.984000027179718\n",
      "Epoch 20 completed : Time usage 60 seconds\n",
      "\tAccuracy:\n",
      "\t- Training Accuracy:\t0.9841636474566026\n",
      "\t- Validation Accuracy:\t0.9843999743461609\n",
      "Epoch 21 completed : Time usage 60 seconds\n",
      "\tAccuracy:\n",
      "\t- Training Accuracy:\t0.984763646884398\n",
      "\t- Validation Accuracy:\t0.9847999811172485\n",
      "Epoch 22 completed : Time usage 60 seconds\n",
      "\tAccuracy:\n",
      "\t- Training Accuracy:\t0.9852727379582145\n",
      "\t- Validation Accuracy:\t0.9861999750137329\n",
      "Epoch 23 completed : Time usage 60 seconds\n",
      "\tAccuracy:\n",
      "\t- Training Accuracy:\t0.9855636464465748\n",
      "\t- Validation Accuracy:\t0.9832000136375427\n",
      "Epoch 24 completed : Time usage 59 seconds\n",
      "\tAccuracy:\n",
      "\t- Training Accuracy:\t0.9867636461691423\n",
      "\t- Validation Accuracy:\t0.9861999750137329\n",
      "Epoch 25 completed : Time usage 60 seconds\n",
      "\tAccuracy:\n",
      "\t- Training Accuracy:\t0.9869091003591364\n",
      "\t- Validation Accuracy:\t0.9865999817848206\n",
      "Epoch 26 completed : Time usage 60 seconds\n",
      "\tAccuracy:\n",
      "\t- Training Accuracy:\t0.9878545550866561\n",
      "\t- Validation Accuracy:\t0.9872000217437744\n",
      "Epoch 27 completed : Time usage 60 seconds\n",
      "\tAccuracy:\n",
      "\t- Training Accuracy:\t0.9884181913462552\n",
      "\t- Validation Accuracy:\t0.9868000149726868\n",
      "Epoch 28 completed : Time usage 60 seconds\n",
      "\tAccuracy:\n",
      "\t- Training Accuracy:\t0.9884909182245081\n",
      "\t- Validation Accuracy:\t0.9868000149726868\n",
      "Epoch 29 completed : Time usage 60 seconds\n",
      "\tAccuracy:\n",
      "\t- Training Accuracy:\t0.989109099778262\n",
      "\t- Validation Accuracy:\t0.9868000149726868\n",
      "Epoch 30 completed : Time usage 60 seconds\n",
      "\tAccuracy:\n",
      "\t- Training Accuracy:\t0.9897454629161141\n",
      "\t- Validation Accuracy:\t0.9876000285148621\n",
      "Epoch 31 completed : Time usage 60 seconds\n",
      "\tAccuracy:\n",
      "\t- Training Accuracy:\t0.9898181906613437\n",
      "\t- Validation Accuracy:\t0.9878000020980835\n",
      "Epoch 32 completed : Time usage 60 seconds\n",
      "\tAccuracy:\n",
      "\t- Training Accuracy:\t0.9905636442791332\n",
      "\t- Validation Accuracy:\t0.9868000149726868\n",
      "Epoch 33 completed : Time usage 60 seconds\n",
      "\tAccuracy:\n",
      "\t- Training Accuracy:\t0.9906909168850292\n",
      "\t- Validation Accuracy:\t0.9878000020980835\n",
      "Epoch 34 completed : Time usage 60 seconds\n",
      "\tAccuracy:\n",
      "\t- Training Accuracy:\t0.9910909168286757\n",
      "\t- Validation Accuracy:\t0.9872000217437744\n",
      "Epoch 35 completed : Time usage 60 seconds\n",
      "\tAccuracy:\n",
      "\t- Training Accuracy:\t0.9917454618757421\n",
      "\t- Validation Accuracy:\t0.9878000020980835\n",
      "Epoch 36 completed : Time usage 60 seconds\n",
      "\tAccuracy:\n",
      "\t- Training Accuracy:\t0.9918363707715815\n",
      "\t- Validation Accuracy:\t0.9869999885559082\n",
      "Epoch 37 completed : Time usage 60 seconds\n",
      "\tAccuracy:\n",
      "\t- Training Accuracy:\t0.9919272801009091\n",
      "\t- Validation Accuracy:\t0.9878000020980835\n",
      "Epoch 38 completed : Time usage 60 seconds\n",
      "\tAccuracy:\n",
      "\t- Training Accuracy:\t0.992309097810225\n",
      "\t- Validation Accuracy:\t0.9869999885559082\n",
      "Epoch 39 completed : Time usage 60 seconds\n",
      "\tAccuracy:\n",
      "\t- Training Accuracy:\t0.9926363697918978\n",
      "\t- Validation Accuracy:\t0.9855999946594238\n",
      "Epoch 40 completed : Time usage 60 seconds\n",
      "\tAccuracy:\n",
      "\t- Training Accuracy:\t0.9932363699782979\n",
      "\t- Validation Accuracy:\t0.9869999885559082\n",
      "Epoch 41 completed : Time usage 60 seconds\n",
      "\tAccuracy:\n",
      "\t- Training Accuracy:\t0.9932181878523393\n",
      "\t- Validation Accuracy:\t0.9861999750137329\n",
      "Epoch 42 completed : Time usage 60 seconds\n",
      "\tAccuracy:\n",
      "\t- Training Accuracy:\t0.9936727330901406\n",
      "\t- Validation Accuracy:\t0.9865999817848206\n",
      "Epoch 43 completed : Time usage 60 seconds\n",
      "\tAccuracy:\n",
      "\t- Training Accuracy:\t0.9937454601851377\n",
      "\t- Validation Accuracy:\t0.9876000285148621\n",
      "Epoch 44 completed : Time usage 60 seconds\n",
      "\tAccuracy:\n",
      "\t- Training Accuracy:\t0.994072732817043\n",
      "\t- Validation Accuracy:\t0.9873999953269958\n",
      "Epoch 45 completed : Time usage 60 seconds\n",
      "\tAccuracy:\n",
      "\t- Training Accuracy:\t0.9944909141280435\n",
      "\t- Validation Accuracy:\t0.98580002784729\n",
      "Epoch 46 completed : Time usage 60 seconds\n",
      "\tAccuracy:\n",
      "\t- Training Accuracy:\t0.9946000049330972\n",
      "\t- Validation Accuracy:\t0.9879999756813049\n",
      "Epoch 47 completed : Time usage 61 seconds\n",
      "\tAccuracy:\n",
      "\t- Training Accuracy:\t0.994527277621356\n",
      "\t- Validation Accuracy:\t0.9864000082015991\n",
      "Epoch 48 completed : Time usage 60 seconds\n",
      "\tAccuracy:\n",
      "\t- Training Accuracy:\t0.9952909135818482\n",
      "\t- Validation Accuracy:\t0.9886000156402588\n",
      "Epoch 49 completed : Time usage 60 seconds\n",
      "\tAccuracy:\n",
      "\t- Training Accuracy:\t0.9952545498717915\n",
      "\t- Validation Accuracy:\t0.9879999756813049\n",
      "Epoch 50 completed : Time usage 60 seconds\n",
      "\tAccuracy:\n",
      "\t- Training Accuracy:\t0.9956909132003784\n",
      "\t- Validation Accuracy:\t0.9882000088691711\n"
     ]
    }
   ],
   "source": [
    "with tf.Session() as sess:\n",
    "    # Initialize all variables\n",
    "    sess.run(tf.global_variables_initializer())\n",
    "    \n",
    "    # Add the model graph to TensorBoard\n",
    "    writer.add_graph(sess.graph)\n",
    "    \n",
    "    # Loop over number of epochs\n",
    "    for epoch in range(num_epochs):\n",
    "        \n",
    "        start_time = time.time()\n",
    "        train_accuracy = 0\n",
    "        \n",
    "        for batch in range(0, int(len(data.train.labels)/batch_size)):\n",
    "            \n",
    "            # Get a batch of images and labels\n",
    "            x_batch, y_true_batch = data.train.next_batch(batch_size)\n",
    "            \n",
    "            # Put the batch into a dict with the proper names for placeholder variables\n",
    "            feed_dict_train = {x: x_batch, y_true: y_true_batch}\n",
    "            \n",
    "            # Run the optimizer using this batch of training data.\n",
    "            sess.run(optimizer, feed_dict=feed_dict_train)\n",
    "            \n",
    "            # Calculate the accuracy on the batch of training data\n",
    "            train_accuracy += sess.run(accuracy, feed_dict=feed_dict_train)\n",
    "            \n",
    "            # Generate summary with the current batch of data and write to file\n",
    "            summ = sess.run(merged_summary, feed_dict=feed_dict_train)\n",
    "            writer.add_summary(summ, epoch*int(len(data.train.labels)/batch_size) + batch)\n",
    "        \n",
    "          \n",
    "        train_accuracy /= int(len(data.train.labels)/batch_size)\n",
    "        \n",
    "        t_accuracy .append(train_accuracy)\n",
    "        cost_array.append(sess.run(cost, feed_dict={x:data.validation.images, y_true:data.validation.labels}))\n",
    "        \n",
    "        # Generate summary and validate the model on the entire validation set\n",
    "        summ, vali_accuracy = sess.run([merged_summary, accuracy], feed_dict={x:data.validation.images, y_true:data.validation.labels})\n",
    "        writer1.add_summary(summ, epoch)\n",
    "        \n",
    "        \n",
    "        \n",
    "\n",
    "        end_time = time.time()\n",
    "        \n",
    "        print(\"Epoch \"+str(epoch+1)+\" completed : Time usage \"+str(int(end_time-start_time))+\" seconds\")\n",
    "        print(\"\\tAccuracy:\")\n",
    "        print (\"\\t- Training Accuracy:\\t{}\".format(train_accuracy))\n",
    "        print (\"\\t- Validation Accuracy:\\t{}\".format(vali_accuracy))\n",
    "        \n",
    "        "
   ]
  },
  {
   "cell_type": "code",
   "execution_count": 18,
   "metadata": {
    "colab": {
     "base_uri": "https://localhost:8080/",
     "height": 283
    },
    "colab_type": "code",
    "id": "aUMhoVSMhi2V",
    "outputId": "44c3225f-ed4c-4191-dae4-1ea1e2d1267d"
   },
   "outputs": [
    {
     "data": {
      "image/png": "[encoded data removed]",
      "text/plain": [
       "<Figure size 432x288 with 1 Axes>"
      ]
     },
     "metadata": {
      "tags": []
     },
     "output_type": "display_data"
    }
   ],
   "source": [
    "import matplotlib.pyplot as plt\n",
    "plt.plot(range(1,num_epochs+1), t_accuracy , linestyle='--', marker='o')\n",
    "plt.ylabel(\"Accuracy\")\n",
    "plt.xlabel(\"Epochs\")\n",
    "plt.show()"
   ]
  },
  {
   "cell_type": "code",
   "execution_count": 19,
   "metadata": {
    "colab": {
     "base_uri": "https://localhost:8080/",
     "height": 283
    },
    "colab_type": "code",
    "id": "AzZ5i1Nohi2X",
    "outputId": "931df088-9f30-4cf1-c7cc-c547808981f8"
   },
   "outputs": [
    {
     "data": {
      "image/png": "[encoded data removed]",
      "text/plain": [
       "<Figure size 432x288 with 1 Axes>"
      ]
     },
     "metadata": {
      "tags": []
     },
     "output_type": "display_data"
    }
   ],
   "source": [
    "plt.plot(range(1,num_epochs+1), cost_array , linestyle='--', marker='o')\n",
    "plt.ylabel(\"Loss\")\n",
    "plt.xlabel(\"Epochs\")\n",
    "plt.show()"
   ]
  },
  {
   "cell_type": "code",
   "execution_count": 0,
   "metadata": {
    "colab": {},
    "colab_type": "code",
    "id": "0eADcpk5rCD_"
   },
   "outputs": [],
   "source": []
  },
  {
   "cell_type": "code",
   "execution_count": 0,
   "metadata": {
    "colab": {},
    "colab_type": "code",
    "id": "LgIvWGvCrWek"
   },
   "outputs": [],
   "source": []
  }
 ],
 "metadata": {
  "colab": {
   "name": "CNN.ipynb",
   "provenance": [],
   "version": "0.3.2"
  },
  "kernelspec": {
   "display_name": "Python 3",
   "language": "python",
   "name": "python3"
  },
  "language_info": {
   "codemirror_mode": {
    "name": "ipython",
    "version": 3
   },
   "file_extension": ".py",
   "mimetype": "text/x-python",
   "name": "python",
   "nbconvert_exporter": "python",
   "pygments_lexer": "ipython3",
   "version": "3.7.4"
  }
 },
 "nbformat": 4,
 "nbformat_minor": 1
}
